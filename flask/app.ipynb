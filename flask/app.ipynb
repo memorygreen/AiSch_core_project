{
 "cells": [
  {
   "cell_type": "code",
   "execution_count": 1,
   "metadata": {},
   "outputs": [
    {
     "name": "stdout",
     "output_type": "stream",
     "text": [
      "hello world\n"
     ]
    }
   ],
   "source": [
    "print(\"hello world\")"
   ]
  },
  {
   "cell_type": "code",
   "execution_count": 2,
   "metadata": {},
   "outputs": [],
   "source": [
    "from flask import Flask, request, jsonify\n",
    "from konlpy.tag import Komoran\n",
    "from konlpy.tag import Okt\n",
    "import jpype\n",
    "import os\n",
    "import re"
   ]
  },
  {
   "cell_type": "code",
   "execution_count": 3,
   "metadata": {},
   "outputs": [
    {
     "name": "stdout",
     "output_type": "stream",
     "text": [
      "Starting Flask server...\n",
      "JAVA_HOME: C:\\Program Files\\Java\\jdk-1.8\n",
      "JDK_HOME: C:\\Program Files\\Java\\jdk-1.8\n",
      "jvm 들어옴\n",
      "path 받음 : C:\\Users\\USER\\anaconda3\\envs\\nearcare\\Lib\\site-packages\\konlpy\\java\\open-korean-text-2.1.0.jar\n",
      "jvm 받음\n",
      "Komoran 초기화 중 오류 발생: Java package 'kr.lucypark.okt' is not valid\n",
      "Okt 실행 후\n",
      " * Serving Flask app '__main__'\n",
      " * Debug mode: on\n"
     ]
    },
    {
     "name": "stderr",
     "output_type": "stream",
     "text": [
      "Traceback (most recent call last):\n",
      "  File \"C:\\Users\\USER\\AppData\\Local\\Temp\\ipykernel_4804\\169735109.py\", line 28, in <module>\n",
      "    okt = Okt()\n",
      "          ^^^^^\n",
      "  File \"c:\\Users\\USER\\anaconda3\\envs\\nearcare\\Lib\\site-packages\\konlpy\\tag\\_okt.py\", line 54, in __init__\n",
      "    OktInterfaceJavaClass = oktJavaPackage.OktInterface\n",
      "                            ^^^^^^^^^^^^^^^^^^^^^^^^^^^\n",
      "AttributeError: Java package 'kr.lucypark.okt' is not valid\n",
      "WARNING: This is a development server. Do not use it in a production deployment. Use a production WSGI server instead.\n",
      " * Running on http://127.0.0.1:5000\n",
      "Press CTRL+C to quit\n",
      " * Restarting with stat\n"
     ]
    },
    {
     "ename": "SystemExit",
     "evalue": "1",
     "output_type": "error",
     "traceback": [
      "An exception has occurred, use %tb to see the full traceback.\n",
      "\u001b[1;31mSystemExit\u001b[0m\u001b[1;31m:\u001b[0m 1\n"
     ]
    },
    {
     "name": "stderr",
     "output_type": "stream",
     "text": [
      "C:\\Users\\USER\\AppData\\Roaming\\Python\\Python312\\site-packages\\IPython\\core\\interactiveshell.py:3585: UserWarning: To exit: use 'exit', 'quit', or Ctrl-D.\n",
      "  warn(\"To exit: use 'exit', 'quit', or Ctrl-D.\", stacklevel=1)\n"
     ]
    }
   ],
   "source": [
    "from flask import Flask, request, jsonify\n",
    "from konlpy.tag import Okt\n",
    "import jpype\n",
    "import os\n",
    "import re\n",
    "\n",
    "app = Flask(__name__)\n",
    "\n",
    "print(\"Starting Flask server...\")\n",
    "print(\"JAVA_HOME:\", os.environ.get('JAVA_HOME'))\n",
    "print(\"JDK_HOME:\", os.environ.get('JDK_HOME'))\n",
    "\n",
    "try:\n",
    "    if not jpype.isJVMStarted():\n",
    "        print(\"jvm 들어옴\")\n",
    "        classpath = os.path.abspath(\"C:/Users/USER/anaconda3/envs/nearcare/Lib/site-packages/konlpy/java/open-korean-text-2.1.0.jar\")\n",
    "        print(f\"path 받음 : {classpath}\")\n",
    "        jpype.startJVM(jpype.getDefaultJVMPath(), \"-Djava.class.path=\" + classpath, \"-Xmx1024m\", \"-Xms512m\", \"-Xss256k\")\n",
    "        print(\"jvm 받음\")\n",
    "except Exception as e:\n",
    "    print(f\"JVM 시작 중 오류 발생: {e}\")\n",
    "    import traceback\n",
    "    traceback.print_exc()\n",
    "\n",
    "try:\n",
    "    okt = Okt()\n",
    "    print(\"Okt 초기화 성공\")\n",
    "except Exception as e:\n",
    "    print(f\"Okt 초기화 중 오류 발생: {e}\")\n",
    "    import traceback\n",
    "    traceback.print_exc()\n",
    "\n",
    "print(\"Okt 실행 후\")\n",
    "\n",
    "\n",
    "\n",
    "\n",
    "\n",
    "\n",
    "@app.route('/', methods=['GET'])\n",
    "def flask_main():\n",
    "    print(\"플라스크 메인 화면 들어옴\")\n",
    "    return \"flask main 화면 입니다.\"\n",
    "\n",
    "\n",
    "\n",
    "@app.route('/mine-text', methods=['POST'])\n",
    "def mine_text():\n",
    "    print(\"플라스크 /mine-text명령 접속\")  # 디버깅\n",
    "    data = request.json\n",
    "    user_input = data['input']\n",
    "    print(\"user_input:\", user_input)  # 디버깅\n",
    "\n",
    "    # 텍스트 마이닝으로 핵심 정보 추출\n",
    "    try:\n",
    "        tokens = okt.pos(user_input)\n",
    "    except Exception as e:\n",
    "        print(f\"Komoran 처리 중 오류 발생: {e}\")\n",
    "        return jsonify({\"error\": \"Komoran 처리 중 오류 발생\"}), 500\n",
    "\n",
    "    key_info = {\n",
    "        \"age\": None,\n",
    "        \"gender\": None,\n",
    "        \"disease\": None,\n",
    "        \"location\": None,\n",
    "        \"additional_info\": []\n",
    "    }\n",
    "\n",
    "    for word, pos in tokens:\n",
    "        if re.match(r'\\d+세', word):\n",
    "            key_info[\"age\"] = word\n",
    "        elif re.match(r'\\d+살', word):\n",
    "            key_info[\"age\"] = word\n",
    "        elif word in [\"남성\", \"여성\", \"남자\", \"여자\"]:\n",
    "            key_info[\"gender\"] = word\n",
    "        elif \"환자\" in word or \"증세\" in word:\n",
    "            key_info[\"disease\"] = word\n",
    "        elif word in [\"광주\", \"서울\", \"부산\", \"대구\", \"인천\", \"대전\", \"전남\", \"전북\", \"충남\", \"충북\", \"경남\", \"경북\", \"강원도\", \"제주도\", \"전라남도\", \"전라북도\", \"충청북도\", \"충청남도\"]:\n",
    "            key_info[\"location\"] = word\n",
    "        else:\n",
    "            key_info[\"additional_info\"].append(word)\n",
    "\n",
    "    key_info[\"additional_info\"] = ' '.join([word for word, pos in tokens if pos not in ['Josa', 'Punctuation']])\n",
    "\n",
    "    print(\"age:\", key_info[\"age\"], \", gender:\", key_info[\"gender\"], \", disease:\", key_info[\"disease\"], \", location:\", key_info[\"location\"], \"additional_info:\", key_info[\"additional_info\"])\n",
    "    return jsonify(key_info)\n",
    "\n",
    "if __name__ == '__main__':\n",
    "    app.run(port=5000, debug=True)\n"
   ]
  },
  {
   "cell_type": "code",
   "execution_count": null,
   "metadata": {},
   "outputs": [],
   "source": []
  }
 ],
 "metadata": {
  "kernelspec": {
   "display_name": "nearcare",
   "language": "python",
   "name": "python3"
  },
  "language_info": {
   "codemirror_mode": {
    "name": "ipython",
    "version": 3
   },
   "file_extension": ".py",
   "mimetype": "text/x-python",
   "name": "python",
   "nbconvert_exporter": "python",
   "pygments_lexer": "ipython3",
   "version": "3.12.4"
  }
 },
 "nbformat": 4,
 "nbformat_minor": 2
}
